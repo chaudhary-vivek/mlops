{
 "cells": [
  {
   "cell_type": "code",
   "execution_count": 10,
   "id": "cabf6468",
   "metadata": {},
   "outputs": [],
   "source": [
    "import numpy as np"
   ]
  },
  {
   "cell_type": "code",
   "execution_count": 11,
   "id": "609f66b8",
   "metadata": {},
   "outputs": [
    {
     "name": "stdout",
     "output_type": "stream",
     "text": [
      "[1 2 3 4 5]\n",
      "(5,)\n",
      "[[1 2 3 4 5]]\n",
      "(1, 5)\n",
      "[[1]\n",
      " [2]\n",
      " [3]\n",
      " [4]\n",
      " [5]]\n",
      "(5, 1)\n",
      "[[1 2 3 4 5]]\n",
      "(1, 5)\n"
     ]
    }
   ],
   "source": [
    "arr1 = np.array([1, 2, 3, 4, 5])\n",
    "print(arr1)\n",
    "print(arr1.shape)\n",
    "\n",
    "arr2 = np.array([[1, 2, 3, 4, 5]])\n",
    "print(arr2)\n",
    "print(arr2.shape)\n",
    "\n",
    "print(arr2.reshape(5,1))\n",
    "print(arr2.reshape(5,1).shape)\n",
    "\n",
    "print(arr2.reshape(1,5))\n",
    "print(arr2.reshape(1,5).shape)"
   ]
  },
  {
   "cell_type": "code",
   "execution_count": 12,
   "id": "b892c3a6",
   "metadata": {},
   "outputs": [
    {
     "name": "stdout",
     "output_type": "stream",
     "text": [
      "Array   [[1 2 3 4 5]]\n",
      "Shape   (1, 5)\n",
      "No of dimensions   2\n",
      "No of elements   5\n",
      "datatype   int64\n",
      "size in bytes   8\n"
     ]
    }
   ],
   "source": [
    "print('Array',' ' ,arr2)\n",
    "print('Shape',' ' ,arr2.shape)\n",
    "print('No of dimensions',' ' ,arr2.ndim)\n",
    "print('No of elements',' ' ,arr2.size)\n",
    "print('datatype',' ' ,arr2.dtype)\n",
    "print('size in bytes',' ' ,arr2.itemsize)"
   ]
  },
  {
   "cell_type": "code",
   "execution_count": 15,
   "id": "86d620fa",
   "metadata": {},
   "outputs": [
    {
     "name": "stdout",
     "output_type": "stream",
     "text": [
      "Addition  [11 22 33 44]\n",
      "Subtraction  [ 9 18 27 36]\n",
      "Multiplication  [ 10  40  90 160]\n",
      "Division  [10. 10. 10. 10.]\n"
     ]
    }
   ],
   "source": [
    "## vectorized functions are element wise\n",
    "\n",
    "a = np.array([10, 20, 30, 40])\n",
    "b = np.array([1, 2, 3, 4])\n",
    "\n",
    "addition = a + b\n",
    "subtraction = a - b\n",
    "multiplication = a*b\n",
    "division = a/b\n",
    "\n",
    "print('Addition ', addition)\n",
    "print('Subtraction ', subtraction)\n",
    "print('Multiplication ', multiplication)\n",
    "print('Division ', division)"
   ]
  },
  {
   "cell_type": "code",
   "execution_count": 17,
   "id": "286cf845",
   "metadata": {},
   "outputs": [
    {
     "name": "stdout",
     "output_type": "stream",
     "text": [
      "[ 2.71828183  7.3890561  20.08553692]\n",
      "[0.         0.69314718 1.09861229]\n",
      "[0.84147098 0.90929743 0.14112001]\n"
     ]
    }
   ],
   "source": [
    "arr = np.array([1,2,3])\n",
    "\n",
    "print(np.exp(arr))\n",
    "print(np.log(arr))\n",
    "print(np.sin(arr))"
   ]
  },
  {
   "cell_type": "code",
   "execution_count": 34,
   "id": "7e921d27",
   "metadata": {},
   "outputs": [
    {
     "name": "stdout",
     "output_type": "stream",
     "text": [
      "6\n",
      "6\n",
      "[[6]\n",
      " [9]]\n",
      "[[1 2 3]\n",
      " [4 5 6]]\n"
     ]
    }
   ],
   "source": [
    "arr = np.array(\n",
    "[[1,2,3], \n",
    "[4,5,6], \n",
    "[7, 8, 9]]\n",
    ")\n",
    "\n",
    "\n",
    "# selection\n",
    "\n",
    "print(arr[1][2])\n",
    "print(arr[1, 2])\n",
    "\n",
    "\n",
    "# slicing\n",
    "\n",
    "print(arr[1:,2:]) \n",
    "\n",
    "print(arr[0:2, 0:])\n"
   ]
  },
  {
   "cell_type": "code",
   "execution_count": null,
   "id": "57fc17d4",
   "metadata": {},
   "outputs": [
    {
     "name": "stdout",
     "output_type": "stream",
     "text": [
      "[False False False False False  True  True  True]\n",
      "[False False False False  True  True  True False]\n"
     ]
    }
   ],
   "source": [
    "# logical ops\n",
    "\n",
    "data = np.array([1, 2, 3, 4, 5, 6, 7, 8])\n",
    "\n",
    "print(data > 5)\n",
    "print((data>=5) & (data<8))"
   ]
  }
 ],
 "metadata": {
  "kernelspec": {
   "display_name": "Python 3",
   "language": "python",
   "name": "python3"
  },
  "language_info": {
   "codemirror_mode": {
    "name": "ipython",
    "version": 3
   },
   "file_extension": ".py",
   "mimetype": "text/x-python",
   "name": "python",
   "nbconvert_exporter": "python",
   "pygments_lexer": "ipython3",
   "version": "3.12.0"
  }
 },
 "nbformat": 4,
 "nbformat_minor": 5
}
