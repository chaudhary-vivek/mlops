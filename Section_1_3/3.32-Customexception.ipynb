{
 "cells": [
  {
   "cell_type": "code",
   "execution_count": 5,
   "id": "bc424f89",
   "metadata": {},
   "outputs": [],
   "source": [
    "class Error(Exception): # inherited from Exception\n",
    "    pass\n",
    "\n",
    "# this exception will be raised when the person is underage\n",
    "\n",
    "class dobException(Error): # inherited from Error\n",
    "    pass\n"
   ]
  },
  {
   "cell_type": "code",
   "execution_count": 6,
   "id": "943ca630",
   "metadata": {},
   "outputs": [
    {
     "name": "stdout",
     "output_type": "stream",
     "text": [
      "You are not eligible to appear, you are underage\n"
     ]
    }
   ],
   "source": [
    "year = int(input(\"Enter your birth year: \"))\n",
    "age = 2024 - year\n",
    "\n",
    "try:\n",
    "    if age <= 30 and age >= 20:\n",
    "        print(\"You are eligible to appear\")\n",
    "    else:    \n",
    "        raise dobException\n",
    "except dobException:\n",
    "    print(\"You are not eligible to appear, you are underage\")"
   ]
  }
 ],
 "metadata": {
  "kernelspec": {
   "display_name": "Python 3",
   "language": "python",
   "name": "python3"
  },
  "language_info": {
   "codemirror_mode": {
    "name": "ipython",
    "version": 3
   },
   "file_extension": ".py",
   "mimetype": "text/x-python",
   "name": "python",
   "nbconvert_exporter": "python",
   "pygments_lexer": "ipython3",
   "version": "3.12.0"
  }
 },
 "nbformat": 4,
 "nbformat_minor": 5
}
