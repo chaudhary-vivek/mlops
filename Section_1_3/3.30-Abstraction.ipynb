{
 "cells": [
  {
   "cell_type": "code",
   "execution_count": null,
   "id": "c85271eb",
   "metadata": {},
   "outputs": [],
   "source": [
    "## Abstraction\n",
    "## Hiding the complex implementation details and showing only the essential features of the object"
   ]
  },
  {
   "cell_type": "code",
   "execution_count": null,
   "id": "4ec02a6c",
   "metadata": {},
   "outputs": [],
   "source": []
  },
  {
   "cell_type": "code",
   "execution_count": null,
   "id": "9ebf9737",
   "metadata": {},
   "outputs": [],
   "source": []
  }
 ],
 "metadata": {
  "language_info": {
   "name": "python"
  }
 },
 "nbformat": 4,
 "nbformat_minor": 5
}
