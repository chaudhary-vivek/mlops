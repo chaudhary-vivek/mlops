{
 "cells": [
  {
   "cell_type": "code",
   "execution_count": 21,
   "id": "ccf2c649",
   "metadata": {},
   "outputs": [],
   "source": [
    "# Generator is a subclass of iterator\n",
    "# They use yield keyword to produce a series of values lazily"
   ]
  },
  {
   "cell_type": "code",
   "execution_count": 22,
   "id": "bb4e73f6",
   "metadata": {},
   "outputs": [
    {
     "name": "stdout",
     "output_type": "stream",
     "text": [
      "<class 'int'>\n",
      "<class 'generator'>\n"
     ]
    }
   ],
   "source": [
    "def square(n):\n",
    "    for i in range(3):\n",
    "        return i * i\n",
    "\n",
    "print(type(square(3)))\n",
    "\n",
    "def square(n):\n",
    "    for i in range(n):\n",
    "        yield i * i # <- the yoeld keyword makes it a generator\n",
    "\n",
    "print(type(square(5)))\n"
   ]
  },
  {
   "cell_type": "code",
   "execution_count": 23,
   "id": "83267ef6",
   "metadata": {},
   "outputs": [
    {
     "name": "stdout",
     "output_type": "stream",
     "text": [
      "0\n",
      "1\n",
      "4\n"
     ]
    }
   ],
   "source": [
    "# the values are generated now that we call it (lazy)\n",
    "for i in square(3):\n",
    "    print(i)"
   ]
  },
  {
   "cell_type": "code",
   "execution_count": 24,
   "id": "275d793b",
   "metadata": {},
   "outputs": [
    {
     "name": "stdout",
     "output_type": "stream",
     "text": [
      "0\n"
     ]
    }
   ],
   "source": [
    "# I can also use next() to get the next value from the generator\n",
    "print(next(square(3)))  "
   ]
  },
  {
   "cell_type": "code",
   "execution_count": 25,
   "id": "5e03e184",
   "metadata": {},
   "outputs": [
    {
     "name": "stdout",
     "output_type": "stream",
     "text": [
      "<class 'generator'>\n"
     ]
    }
   ],
   "source": [
    "def my_generator():\n",
    "    yield 1\n",
    "    yield 2\n",
    "    yield 3\n",
    "\n",
    "gen = my_generator()\n",
    "print(type(gen))  # <class 'generator'>\n",
    "# print(next(gen))  # 1\n",
    "# print(next(gen))  # 2\n",
    "# print(next(gen))  # 3"
   ]
  },
  {
   "cell_type": "code",
   "execution_count": 26,
   "id": "d5500355",
   "metadata": {},
   "outputs": [
    {
     "name": "stdout",
     "output_type": "stream",
     "text": [
      "1\n",
      "2\n",
      "3\n"
     ]
    }
   ],
   "source": [
    "for val in gen:\n",
    "    print(val)"
   ]
  },
  {
   "cell_type": "code",
   "execution_count": null,
   "id": "775db458",
   "metadata": {},
   "outputs": [],
   "source": [
    "# can be used to read large files\n",
    "# this helps because of lazy loading, the memory is not overloaded\n",
    "\n",
    "def read_large_file(file_name):\n",
    "    with open(file_name) as f:\n",
    "        for line in f:\n",
    "            yield line"
   ]
  }
 ],
 "metadata": {
  "kernelspec": {
   "display_name": "Python 3",
   "language": "python",
   "name": "python3"
  },
  "language_info": {
   "codemirror_mode": {
    "name": "ipython",
    "version": 3
   },
   "file_extension": ".py",
   "mimetype": "text/x-python",
   "name": "python",
   "nbconvert_exporter": "python",
   "pygments_lexer": "ipython3",
   "version": "3.12.0"
  }
 },
 "nbformat": 4,
 "nbformat_minor": 5
}
