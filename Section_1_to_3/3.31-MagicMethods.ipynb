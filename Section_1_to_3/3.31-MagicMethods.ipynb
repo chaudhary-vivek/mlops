{
 "cells": [
  {
   "cell_type": "code",
   "execution_count": 9,
   "id": "2a76e182",
   "metadata": {},
   "outputs": [],
   "source": [
    "## magic methods\n",
    "## start and end with double underscores\n",
    "## also known as dunder methods\n",
    "## used to define the behavior of operators for user-defined classes"
   ]
  },
  {
   "cell_type": "code",
   "execution_count": 10,
   "id": "02109f81",
   "metadata": {},
   "outputs": [
    {
     "data": {
      "text/plain": [
       "'\\n__init__ initializes an object\\n__str__ defines the string representation of an object\\n__add__ defines the behavior of the + operator\\n__len__ defines the behavior of the len() function\\n__eq__ defines the behavior of the == operator\\n__lt__ defines the behavior of the < operator\\n__gt__ defines the behavior of the > operator\\n__repr__ defines the official string representation of an object\\n__call__ allows an object to be called as a function\\n__getitem__ allows indexing and slicing of an object\\n__setitem__ allows setting values using indexing\\n__delitem__ allows deletion of items using indexing\\n__iter__ returns an iterator for the object\\n__next__ returns the next item from an iterator\\n__contains__ defines the behavior of the in operator\\n'"
      ]
     },
     "execution_count": 10,
     "metadata": {},
     "output_type": "execute_result"
    }
   ],
   "source": [
    "'''\n",
    "__init__ initializes an object\n",
    "__str__ defines the string representation of an object\n",
    "__add__ defines the behavior of the + operator\n",
    "__len__ defines the behavior of the len() function\n",
    "__eq__ defines the behavior of the == operator\n",
    "__lt__ defines the behavior of the < operator\n",
    "__gt__ defines the behavior of the > operator\n",
    "__repr__ defines the official string representation of an object\n",
    "__call__ allows an object to be called as a function\n",
    "__getitem__ allows indexing and slicing of an object\n",
    "__setitem__ allows setting values using indexing\n",
    "__delitem__ allows deletion of items using indexing\n",
    "__iter__ returns an iterator for the object\n",
    "__next__ returns the next item from an iterator\n",
    "__contains__ defines the behavior of the in operator\n",
    "'''"
   ]
  },
  {
   "cell_type": "code",
   "execution_count": 11,
   "id": "401d88a3",
   "metadata": {},
   "outputs": [
    {
     "data": {
      "text/plain": [
       "['__class__',\n",
       " '__delattr__',\n",
       " '__dict__',\n",
       " '__dir__',\n",
       " '__doc__',\n",
       " '__eq__',\n",
       " '__format__',\n",
       " '__ge__',\n",
       " '__getattribute__',\n",
       " '__getstate__',\n",
       " '__gt__',\n",
       " '__hash__',\n",
       " '__init__',\n",
       " '__init_subclass__',\n",
       " '__le__',\n",
       " '__lt__',\n",
       " '__module__',\n",
       " '__ne__',\n",
       " '__new__',\n",
       " '__reduce__',\n",
       " '__reduce_ex__',\n",
       " '__repr__',\n",
       " '__setattr__',\n",
       " '__sizeof__',\n",
       " '__str__',\n",
       " '__subclasshook__',\n",
       " '__weakref__']"
      ]
     },
     "execution_count": 11,
     "metadata": {},
     "output_type": "execute_result"
    }
   ],
   "source": [
    "class Person():\n",
    "    pass\n",
    "\n",
    "person = Person()\n",
    "dir(person)  # Lists all attributes and methods of the object"
   ]
  },
  {
   "cell_type": "code",
   "execution_count": 12,
   "id": "086d2d15",
   "metadata": {},
   "outputs": [
    {
     "name": "stdout",
     "output_type": "stream",
     "text": [
      "<__main__.Person object at 0x10701d2e0>\n",
      "Person(name=Alice, age=30)\n"
     ]
    }
   ],
   "source": [
    "class Person():\n",
    "    def __init__(self, name, age):\n",
    "        self.name = name\n",
    "        self.age = age\n",
    "\n",
    "person = Person(\"Alice\", 30)\n",
    "print(person)  \n",
    "\n",
    "# returns following by default\n",
    "# <__main__.Person object at 0x107075b50>\n",
    "\n",
    "# we can override this behavior by defining the __str__ method\n",
    "\n",
    "class Person():\n",
    "    def __init__(self, name, age):\n",
    "        self.name = name\n",
    "        self.age = age\n",
    "\n",
    "    def __str__(self):\n",
    "        return f\"Person(name={self.name}, age={self.age})\"\n",
    "\n",
    "person = Person(\"Alice\", 30)\n",
    "print(person)  \n",
    "\n",
    "# returns Person(name=Alice, age=30)\n"
   ]
  },
  {
   "cell_type": "code",
   "execution_count": null,
   "id": "c25d0e57",
   "metadata": {},
   "outputs": [],
   "source": []
  }
 ],
 "metadata": {
  "kernelspec": {
   "display_name": "Python 3",
   "language": "python",
   "name": "python3"
  },
  "language_info": {
   "codemirror_mode": {
    "name": "ipython",
    "version": 3
   },
   "file_extension": ".py",
   "mimetype": "text/x-python",
   "name": "python",
   "nbconvert_exporter": "python",
   "pygments_lexer": "ipython3",
   "version": "3.12.0"
  }
 },
 "nbformat": 4,
 "nbformat_minor": 5
}
