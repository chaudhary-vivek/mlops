{
 "cells": [
  {
   "cell_type": "code",
   "execution_count": 3,
   "id": "1560adf0",
   "metadata": {},
   "outputs": [
    {
     "name": "stdout",
     "output_type": "stream",
     "text": [
      "<class 'dict'>\n",
      "<class 'dict'>\n"
     ]
    }
   ],
   "source": [
    "## Dictionary store key-value pairs\n",
    "## the key is immutable and unique, value is mutable and can be duplicate\n",
    "\n",
    "empty_dict = {}\n",
    "print(type(empty_dict))\n",
    "empty_dict = dict()\n",
    "print(type(empty_dict))\n",
    "\n",
    "student = {\"name\": \"John\",\n",
    "           \"age\": 25,\n",
    "           \"grade\": 10}"
   ]
  },
  {
   "cell_type": "code",
   "execution_count": 5,
   "id": "faf07dc6",
   "metadata": {},
   "outputs": [
    {
     "name": "stdout",
     "output_type": "stream",
     "text": [
      "10\n",
      "10\n",
      "Not Found\n"
     ]
    }
   ],
   "source": [
    "print(student['grade'])\n",
    "print(student.get('grade'))\n",
    "# we can use a default value if key is not present using get method\n",
    "print(student.get('address', 'Not Found'))"
   ]
  },
  {
   "cell_type": "code",
   "execution_count": 6,
   "id": "0a4c6022",
   "metadata": {},
   "outputs": [
    {
     "name": "stdout",
     "output_type": "stream",
     "text": [
      "{'name': 'John', 'age': 25, 'grade': 10, 'address': '123 Main St'}\n",
      "{'name': 'John', 'age': 25, 'grade': 10}\n"
     ]
    }
   ],
   "source": [
    "# add\n",
    "student['address'] = '123 Main St'\n",
    "\n",
    "print(student)\n",
    "\n",
    "#delete\n",
    "del student['address']\n",
    "\n",
    "print(student)\n"
   ]
  },
  {
   "cell_type": "code",
   "execution_count": 7,
   "id": "d7e65a6b",
   "metadata": {},
   "outputs": [
    {
     "name": "stdout",
     "output_type": "stream",
     "text": [
      "dict_keys(['name', 'age', 'grade'])\n",
      "dict_values(['John', 25, 10])\n",
      "dict_items([('name', 'John'), ('age', 25), ('grade', 10)])\n"
     ]
    }
   ],
   "source": [
    "keys = student.keys()\n",
    "print(keys)\n",
    "values = student.values()\n",
    "print(values)\n",
    "items = student.items()\n",
    "print(items)"
   ]
  },
  {
   "cell_type": "code",
   "execution_count": 18,
   "id": "84c2418d",
   "metadata": {},
   "outputs": [
    {
     "name": "stdout",
     "output_type": "stream",
     "text": [
      "{'name': 'John', 'age': 25, 'grade': 10}\n",
      "{'name': 'Doe', 'age': 25, 'grade': 10}\n"
     ]
    }
   ],
   "source": [
    "# shallow copy\n",
    "student = {\"name\": \"John\",\n",
    "           \"age\": 25,\n",
    "           \"grade\": 10}\n",
    "\n",
    "    \n",
    "\n",
    "student_copy = student.copy()\n",
    "\n",
    "student['name'] = 'Doe'\n",
    "\n",
    "print(student_copy)\n",
    "print(student)\n",
    "\n",
    "\n"
   ]
  },
  {
   "cell_type": "code",
   "execution_count": 21,
   "id": "d25899af",
   "metadata": {},
   "outputs": [
    {
     "name": "stdout",
     "output_type": "stream",
     "text": [
      "name\n",
      "age\n",
      "grade\n",
      "John\n",
      "25\n",
      "10\n",
      "name: John\n",
      "age: 25\n",
      "grade: 10\n"
     ]
    }
   ],
   "source": [
    "## Iterating through a dictionary\n",
    "## we can iterate through keys, values or key-value pairs\n",
    "\n",
    "student = {\"name\": \"John\",\n",
    "           \"age\": 25,\n",
    "           \"grade\": 10}\n",
    "\n",
    "## iterating over keys\n",
    "for key in student.keys():\n",
    "    print(key)\n",
    "\n",
    "## iterating over values\n",
    "for value in student.values():\n",
    "    print(value)\n",
    "\n",
    "## iterating over key-value pairs\n",
    "for key, value in student.items():\n",
    "    print(f\"{key}: {value}\")"
   ]
  },
  {
   "cell_type": "code",
   "execution_count": 24,
   "id": "209a06e3",
   "metadata": {},
   "outputs": [
    {
     "name": "stdout",
     "output_type": "stream",
     "text": [
      "{1: 1, 2: 4, 3: 9, 4: 16, 5: 25}\n",
      "{2: 4, 4: 16}\n"
     ]
    }
   ],
   "source": [
    "# Disctionary comprehension\n",
    "squares = {x: x*x for x in range(1, 6)}\n",
    "print(squares)\n",
    "squares = {x: x*x for x in range(1, 6) if x % 2 == 0}\n",
    "print(squares)\n"
   ]
  },
  {
   "cell_type": "code",
   "execution_count": 26,
   "id": "73efec81",
   "metadata": {},
   "outputs": [
    {
     "name": "stdout",
     "output_type": "stream",
     "text": [
      "{1: 1, 2: 2, 3: 3, 4: 4}\n"
     ]
    }
   ],
   "source": [
    "numbers = [1,2,2,3,3,3,4,4,4,4]\n",
    "frequency = {}\n",
    "\n",
    "for number in numbers:\n",
    "    if number in frequency:\n",
    "        frequency[number] +=1\n",
    "    else:\n",
    "        frequency[number] = 1\n",
    "\n",
    "print(frequency)\n"
   ]
  },
  {
   "cell_type": "code",
   "execution_count": 27,
   "id": "15fe5712",
   "metadata": {},
   "outputs": [
    {
     "name": "stdout",
     "output_type": "stream",
     "text": [
      "{'a': 1, 'b': 3, 'c': 4}\n"
     ]
    }
   ],
   "source": [
    "## Merge two dictionaries\n",
    "\n",
    "dict1 = {'a': 1, 'b': 2}\n",
    "dict2 = {'b': 3, 'c': 4}\n",
    "\n",
    "merged_dict = {**dict1, **dict2}\n",
    "print(merged_dict)"
   ]
  }
 ],
 "metadata": {
  "kernelspec": {
   "display_name": "Python 3",
   "language": "python",
   "name": "python3"
  },
  "language_info": {
   "codemirror_mode": {
    "name": "ipython",
    "version": 3
   },
   "file_extension": ".py",
   "mimetype": "text/x-python",
   "name": "python",
   "nbconvert_exporter": "python",
   "pygments_lexer": "ipython3",
   "version": "3.12.0"
  }
 },
 "nbformat": 4,
 "nbformat_minor": 5
}
