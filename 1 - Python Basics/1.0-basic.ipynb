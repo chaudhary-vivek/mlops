{
 "cells": [
  {
   "cell_type": "markdown",
   "id": "f46b9724",
   "metadata": {},
   "source": [
    "- Syntax is how we can arrange the words so we can write a code\n",
    "- Semantics is the meaning and interpretation of code"
   ]
  },
  {
   "cell_type": "code",
   "execution_count": null,
   "id": "28f529a2",
   "metadata": {},
   "outputs": [
    {
     "name": "stdout",
     "output_type": "stream",
     "text": [
      "Vivek\n",
      "Chaudhary\n"
     ]
    }
   ],
   "source": [
    "## Basic syntax rules in python\n",
    "## Case sensitivity - Python is case sensistive\n",
    "\n",
    "name = 'Vivek'\n",
    "Name = 'Chaudhary'\n",
    "\n",
    "print(name)\n",
    "print(Name)"
   ]
  },
  {
   "cell_type": "code",
   "execution_count": null,
   "id": "ad309375",
   "metadata": {},
   "outputs": [
    {
     "name": "stdout",
     "output_type": "stream",
     "text": [
      "30\n"
     ]
    }
   ],
   "source": [
    "## Indentation\n",
    "## Python uses indentation to define blocks of code. Four spaces or tab is needed\n",
    "\n",
    "age = 30\n",
    "\n",
    "if age > 24:\n",
    "    print(age)"
   ]
  },
  {
   "cell_type": "code",
   "execution_count": 7,
   "id": "30b22ff2",
   "metadata": {},
   "outputs": [
    {
     "name": "stdout",
     "output_type": "stream",
     "text": [
      "21\n"
     ]
    }
   ],
   "source": [
    "## Line continuation\n",
    "\n",
    "total = 1+2+3+\\\n",
    "    4+5+6\n",
    "\n",
    "print(total)"
   ]
  },
  {
   "cell_type": "code",
   "execution_count": null,
   "id": "2ffe54ff",
   "metadata": {},
   "outputs": [
    {
     "name": "stdout",
     "output_type": "stream",
     "text": [
      "15\n"
     ]
    }
   ],
   "source": [
    "## Multiple statements in a single line\n",
    "\n",
    "x = 5; y = 10; z = x + y\n",
    "print(z)"
   ]
  }
 ],
 "metadata": {
  "kernelspec": {
   "display_name": "Python 3",
   "language": "python",
   "name": "python3"
  },
  "language_info": {
   "codemirror_mode": {
    "name": "ipython",
    "version": 3
   },
   "file_extension": ".py",
   "mimetype": "text/x-python",
   "name": "python",
   "nbconvert_exporter": "python",
   "pygments_lexer": "ipython3",
   "version": "3.12.0"
  }
 },
 "nbformat": 4,
 "nbformat_minor": 5
}
