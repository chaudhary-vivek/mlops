{
 "cells": [
  {
   "cell_type": "code",
   "execution_count": 2,
   "id": "8b70d162",
   "metadata": {},
   "outputs": [
    {
     "name": "stdout",
     "output_type": "stream",
     "text": [
      "Directory 'package2' created.\n"
     ]
    }
   ],
   "source": [
    "import os\n",
    "\n",
    "newdirectory = 'package2'\n",
    "\n",
    "if not os.path.exists(newdirectory):\n",
    "    os.mkdir(newdirectory)\n",
    "print(f\"Directory '{newdirectory}' created.\")"
   ]
  },
  {
   "cell_type": "code",
   "execution_count": 3,
   "id": "4ff47684",
   "metadata": {},
   "outputs": [
    {
     "data": {
      "text/plain": [
       "['3.21-Importmodules.ipynb',\n",
       " 'package2',\n",
       " '3.14-Tuples.ipynb',\n",
       " '1.3-Operators.ipynb',\n",
       " '3.20-Filterfunction.ipynb',\n",
       " '3.24-Filepaths.ipynb',\n",
       " 'test.py',\n",
       " '3.16-Functions.ipynb',\n",
       " '3.22-Stadardlibrary.ipynb',\n",
       " '3.13-Sets.ipynb',\n",
       " '1.5-Loops.ipynb',\n",
       " '3.19-Mapfunction.ipynb',\n",
       " 'example.bin',\n",
       " 'example.txt',\n",
       " '3.18-Lamdafunctions.ipynb',\n",
       " '3.23-Fileoperations.ipynb',\n",
       " 'package',\n",
       " '3.15-Dictionaries.ipynb',\n",
       " 'venv_setup.txt']"
      ]
     },
     "execution_count": 3,
     "metadata": {},
     "output_type": "execute_result"
    }
   ],
   "source": [
    "items = os.listdir('.')\n",
    "items"
   ]
  },
  {
   "cell_type": "code",
   "execution_count": 4,
   "id": "ac6a3364",
   "metadata": {},
   "outputs": [
    {
     "name": "stdout",
     "output_type": "stream",
     "text": [
      "folder/file.txt\n",
      "/Users/vivekchaudhary/Documents/mlops/1-Python Basics/folder/file.txt\n"
     ]
    }
   ],
   "source": [
    "# joining paths\n",
    "\n",
    "dir_name = 'folder'\n",
    "file_name = 'file.txt'\n",
    "full_path = os.path.join(dir_name, file_name)\n",
    "print(full_path)  # Output: folder/file.txt or folder\\file.txt depending on the\n",
    "\n",
    "full_path = os.path.join(os.getcwd(), dir_name, file_name)\n",
    "print(full_path)"
   ]
  },
  {
   "cell_type": "code",
   "execution_count": 8,
   "id": "70314039",
   "metadata": {},
   "outputs": [],
   "source": [
    "if os.path.isfile(full_path):\n",
    "    print(f\"{full_path} is a file.\")\n",
    "elif os.path.isdir(full_path):\n",
    "    print(f\"{full_path} is a directory.\")"
   ]
  }
 ],
 "metadata": {
  "kernelspec": {
   "display_name": "Python 3",
   "language": "python",
   "name": "python3"
  },
  "language_info": {
   "codemirror_mode": {
    "name": "ipython",
    "version": 3
   },
   "file_extension": ".py",
   "mimetype": "text/x-python",
   "name": "python",
   "nbconvert_exporter": "python",
   "pygments_lexer": "ipython3",
   "version": "3.12.0"
  }
 },
 "nbformat": 4,
 "nbformat_minor": 5
}
