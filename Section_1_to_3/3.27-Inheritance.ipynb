{
 "cells": [
  {
   "cell_type": "markdown",
   "id": "452103e5",
   "metadata": {},
   "source": [
    "# Single inhertiance"
   ]
  },
  {
   "cell_type": "code",
   "execution_count": 27,
   "id": "324525c8",
   "metadata": {},
   "outputs": [],
   "source": [
    "class Car:\n",
    "    def __init__(self, windows, doors, enginetype):\n",
    "        self.windows = windows\n",
    "        self.doors = doors\n",
    "        self.enginetype = enginetype\n",
    "    \n",
    "    def drive(self):\n",
    "        print(f\"The car is driving the {self.enginetype} engine.\")"
   ]
  },
  {
   "cell_type": "code",
   "execution_count": 28,
   "id": "90f19f65",
   "metadata": {},
   "outputs": [
    {
     "name": "stdout",
     "output_type": "stream",
     "text": [
      "The car is driving the petrol engine.\n"
     ]
    }
   ],
   "source": [
    "car1 = Car(4, 4, \"petrol\")\n",
    "car1.drive()"
   ]
  },
  {
   "cell_type": "code",
   "execution_count": 29,
   "id": "2bf3e7a7",
   "metadata": {},
   "outputs": [
    {
     "name": "stdout",
     "output_type": "stream",
     "text": [
      "The car is driving the electric engine.\n",
      "Self driving support True.\n"
     ]
    }
   ],
   "source": [
    "## Class Tesla is inheriting from class Car\n",
    "class Tesla(Car):\n",
    "    def __init__(self, windows, doors, enginetype, is_selfdriving):\n",
    "        super().__init__(windows, doors, enginetype)\n",
    "        self.is_selfdriving = is_selfdriving\n",
    "\n",
    "    def self_drive(self):\n",
    "            print(f\"Self driving support {self.is_selfdriving}.\")\n",
    "\n",
    "\n",
    "tesla1 = Tesla(4, 4, \"electric\", True)\n",
    "tesla1.drive()\n",
    "tesla1.self_drive()\n"
   ]
  },
  {
   "cell_type": "markdown",
   "id": "f7ea0dbe",
   "metadata": {},
   "source": [
    "# Multiple inheritance"
   ]
  },
  {
   "cell_type": "code",
   "execution_count": null,
   "id": "4621ed8b",
   "metadata": {},
   "outputs": [
    {
     "name": "stdout",
     "output_type": "stream",
     "text": [
      "Buddy says Woof! to Vivek.\n"
     ]
    }
   ],
   "source": [
    "## Base class 1\n",
    "\n",
    "class Animal:\n",
    "    def __init__(self, name):\n",
    "        self.name = name\n",
    "    def speak(self):\n",
    "        print(f\"{self.name} makes a sound.\")\n",
    "\n",
    "\n",
    "## Base class 2\n",
    "\n",
    "class Pet:\n",
    "    def __init__(self, owner):\n",
    "        self.owner = owner\n",
    "\n",
    "\n",
    "## Derived class\n",
    "\n",
    "class Dog(Animal, Pet):\n",
    "    def __init__(self, name, owner):\n",
    "        Animal.__init__(self, name)\n",
    "        Pet.__init__(self, owner)\n",
    "    def speak(self):\n",
    "         return f\"{self.name} says Woof! to {self.owner}.\" # This method will be given preference over the speak method in Animal class\n",
    "\n",
    "\n",
    "## Create an object\n",
    "dog = Dog(\"Buddy\", \"Vivek\")\n",
    "print(dog.speak())"
   ]
  }
 ],
 "metadata": {
  "kernelspec": {
   "display_name": "Python 3",
   "language": "python",
   "name": "python3"
  },
  "language_info": {
   "codemirror_mode": {
    "name": "ipython",
    "version": 3
   },
   "file_extension": ".py",
   "mimetype": "text/x-python",
   "name": "python",
   "nbconvert_exporter": "python",
   "pygments_lexer": "ipython3",
   "version": "3.12.0"
  }
 },
 "nbformat": 4,
 "nbformat_minor": 5
}
