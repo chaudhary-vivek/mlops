{
 "cells": [
  {
   "cell_type": "code",
   "execution_count": null,
   "id": "eeb10ab0",
   "metadata": {},
   "outputs": [
    {
     "name": "stdout",
     "output_type": "stream",
     "text": [
      "1\n",
      "2\n",
      "3\n",
      "4\n",
      "5\n",
      "helu\n"
     ]
    }
   ],
   "source": [
    "# positional arguements\n",
    "\n",
    "def print_things(*args):\n",
    "    for i in args:\n",
    "        print(i)\n",
    "\n",
    "\n",
    "print_things(1,2,3,4,5,'helu')"
   ]
  },
  {
   "cell_type": "code",
   "execution_count": null,
   "id": "b1b2512e",
   "metadata": {},
   "outputs": [
    {
     "name": "stdout",
     "output_type": "stream",
     "text": [
      "name: Vivek\n",
      "age: 25\n",
      "city: New York\n"
     ]
    }
   ],
   "source": [
    "## keyword arguements\n",
    "# keyword arguements contain a key and a value pair\n",
    "\n",
    "def print_details(**kwargs):\n",
    "    for key, value in kwargs.items():\n",
    "        print(f\"{key}: {value}\")\n",
    "\n",
    "print_details(name=\"Vivek\", age=25, city=\"New York\")"
   ]
  },
  {
   "cell_type": "code",
   "execution_count": null,
   "id": "c7e92b2c",
   "metadata": {},
   "outputs": [
    {
     "name": "stdout",
     "output_type": "stream",
     "text": [
      "name: Vivek\n",
      "age: 25\n",
      "city: New York\n",
      "1\n",
      "2\n",
      "3\n",
      "4\n",
      "5\n",
      "helu\n"
     ]
    }
   ],
   "source": [
    "# keyword arguements can only be used after positional arguements\n",
    "# we can use both *args and **kwargs in the same function\n",
    "def print_details(*args, **kwargs):\n",
    "    for key, value in kwargs.items():\n",
    "        print(f\"{key}: {value}\")\n",
    "    for i in args:\n",
    "        print(i)\n",
    "\n",
    "print_details(1,2,3,4,5,'helu', name=\"Vivek\", age=25, city=\"New York\")"
   ]
  }
 ],
 "metadata": {
  "kernelspec": {
   "display_name": "Python 3",
   "language": "python",
   "name": "python3"
  },
  "language_info": {
   "codemirror_mode": {
    "name": "ipython",
    "version": 3
   },
   "file_extension": ".py",
   "mimetype": "text/x-python",
   "name": "python",
   "nbconvert_exporter": "python",
   "pygments_lexer": "ipython3",
   "version": "3.12.0"
  }
 },
 "nbformat": 4,
 "nbformat_minor": 5
}
