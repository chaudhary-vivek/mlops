{
 "cells": [
  {
   "cell_type": "code",
   "execution_count": 19,
   "id": "e639e956",
   "metadata": {},
   "outputs": [
    {
     "name": "stdout",
     "output_type": "stream",
     "text": [
      "Hello, World!\n",
      "This is a new line.\n",
      "Appending a new line.\n",
      "Another appended line.\n",
      "First line\n",
      "Second line\n",
      "Third line\n",
      "\n"
     ]
    }
   ],
   "source": [
    "## Read a whole file\n",
    "\n",
    "with open('example.txt', 'r') as file:\n",
    "    content = file.read()\n",
    "    print(content)"
   ]
  },
  {
   "cell_type": "code",
   "execution_count": 20,
   "id": "59f2bae8",
   "metadata": {},
   "outputs": [
    {
     "name": "stdout",
     "output_type": "stream",
     "text": [
      "Hello, World!\n",
      "This is a new line.\n",
      "Appending a new line.\n",
      "Another appended line.\n",
      "First line\n",
      "Second line\n",
      "Third line\n"
     ]
    }
   ],
   "source": [
    "## Read a file line by line\n",
    "\n",
    "with open('example.txt', 'r') as file:\n",
    "    for line in file:\n",
    "        print(line.strip() ) # .strip remove leading/trailing whitespace)"
   ]
  },
  {
   "cell_type": "code",
   "execution_count": 21,
   "id": "fd13bbc5",
   "metadata": {},
   "outputs": [],
   "source": [
    "##Overwriting a file\n",
    "\n",
    "with open('example.txt', 'w') as file:\n",
    "    file.write('Hello, World!\\n')\n",
    "    file.write('This is a new line.\\n')"
   ]
  },
  {
   "cell_type": "code",
   "execution_count": 22,
   "id": "dda1472b",
   "metadata": {},
   "outputs": [],
   "source": [
    "# Write a file without overwriting\n",
    "\n",
    "with open('example.txt', 'a') as file: # a is for append mode\n",
    "    file.write('Appending a new line.\\n')\n",
    "    file.write('Another appended line.\\n')"
   ]
  },
  {
   "cell_type": "code",
   "execution_count": 23,
   "id": "726bd769",
   "metadata": {},
   "outputs": [],
   "source": [
    "# Writing a list of lines\n",
    "\n",
    "lines = ['First line\\n', 'Second line\\n', 'Third line\\n']\n",
    "with open('example.txt', 'a') as file:\n",
    "    file.writelines(lines)"
   ]
  },
  {
   "cell_type": "code",
   "execution_count": 24,
   "id": "6269439e",
   "metadata": {},
   "outputs": [],
   "source": [
    "## binary file operations\n",
    "\n",
    "data = b'Binary data example\\n'\n",
    "with open('example.bin', 'wb') as file:  # wb is write binary mode\n",
    "    file.write(data)"
   ]
  },
  {
   "cell_type": "code",
   "execution_count": null,
   "id": "958867d2",
   "metadata": {},
   "outputs": [],
   "source": []
  }
 ],
 "metadata": {
  "kernelspec": {
   "display_name": "Python 3",
   "language": "python",
   "name": "python3"
  },
  "language_info": {
   "codemirror_mode": {
    "name": "ipython",
    "version": 3
   },
   "file_extension": ".py",
   "mimetype": "text/x-python",
   "name": "python",
   "nbconvert_exporter": "python",
   "pygments_lexer": "ipython3",
   "version": "3.12.0"
  }
 },
 "nbformat": 4,
 "nbformat_minor": 5
}
