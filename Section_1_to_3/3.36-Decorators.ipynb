{
 "cells": [
  {
   "cell_type": "code",
   "execution_count": 19,
   "id": "166c9741",
   "metadata": {},
   "outputs": [],
   "source": [
    "## Decorators allow you to modify the behavior of functions or methods.\n",
    "## They are denoted by the \"@\" symbol above a function definition."
   ]
  },
  {
   "cell_type": "code",
   "execution_count": 28,
   "id": "b623f5d9",
   "metadata": {},
   "outputs": [
    {
     "name": "stdout",
     "output_type": "stream",
     "text": [
      "Welcome to sub_welcome function\n",
      "Welcome to MLOps\n",
      "Learn well\n"
     ]
    }
   ],
   "source": [
    "## Decorators\n",
    "\n",
    "def main_welcome(func):\n",
    "    def sub_welcome():\n",
    "        print('Welcome to sub_welcome function')\n",
    "        func()\n",
    "        print('Learn well')\n",
    "\n",
    "    return sub_welcome()\n",
    "\n",
    "\n",
    "def course_welcome():\n",
    "    print('Welcome to MLOps')\n",
    "\n",
    "main_welcome(course_welcome) # passing course_welcome function as an argument"
   ]
  },
  {
   "cell_type": "code",
   "execution_count": null,
   "id": "e9652c83",
   "metadata": {},
   "outputs": [
    {
     "name": "stdout",
     "output_type": "stream",
     "text": [
      "Welcome to sub_welcome function\n",
      "Welcome to MLOps\n",
      "Learn well\n"
     ]
    }
   ],
   "source": [
    "@main_welcome # decorator\n",
    "def course_welcome(): # course_welcome will get called my main_welcome\n",
    "    print('Welcome to MLOps')\n",
    "    \n",
    "# above code is same as main_welcome(course_welcome) "
   ]
  }
 ],
 "metadata": {
  "kernelspec": {
   "display_name": "Python 3",
   "language": "python",
   "name": "python3"
  },
  "language_info": {
   "codemirror_mode": {
    "name": "ipython",
    "version": 3
   },
   "file_extension": ".py",
   "mimetype": "text/x-python",
   "name": "python",
   "nbconvert_exporter": "python",
   "pygments_lexer": "ipython3",
   "version": "3.12.0"
  }
 },
 "nbformat": 4,
 "nbformat_minor": 5
}
