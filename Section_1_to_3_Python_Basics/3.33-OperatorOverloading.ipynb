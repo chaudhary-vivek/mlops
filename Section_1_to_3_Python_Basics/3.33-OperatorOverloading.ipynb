{
 "cells": [
  {
   "cell_type": "code",
   "execution_count": null,
   "id": "59a7991d",
   "metadata": {},
   "outputs": [],
   "source": [
    "# We can change the \n",
    "# MEaning if operators such as +, -, *, / etc"
   ]
  }
 ],
 "metadata": {
  "kernelspec": {
   "display_name": "Python 3",
   "language": "python",
   "name": "python3"
  },
  "language_info": {
   "name": "python",
   "version": "3.12.0"
  }
 },
 "nbformat": 4,
 "nbformat_minor": 5
}
