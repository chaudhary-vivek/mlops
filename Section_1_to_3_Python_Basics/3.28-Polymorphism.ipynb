{
 "cells": [
  {
   "cell_type": "code",
   "execution_count": 8,
   "id": "1d5aba24",
   "metadata": {},
   "outputs": [],
   "source": [
    "## Ploymorphism allows objects of different classes\n",
    "## to be treated as an instance of commmon superclass"
   ]
  },
  {
   "cell_type": "code",
   "execution_count": null,
   "id": "53c8f7b4",
   "metadata": {},
   "outputs": [
    {
     "name": "stdout",
     "output_type": "stream",
     "text": [
      "Woof!\n",
      "Meow!\n",
      "Woof!\n"
     ]
    }
   ],
   "source": [
    "## Method overriding allows child class to\n",
    "## override the method in parent calss\n",
    "\n",
    "## Base class Animal\n",
    "\n",
    "class Animal:\n",
    "    def speak(self):\n",
    "        return \"Sound of the animal\"\n",
    "\n",
    "## Derived class Dog\n",
    "\n",
    "class Dog(Animal):\n",
    "    def speak(self):\n",
    "        return \"Woof!\"\n",
    "\n",
    "\n",
    "## Derived class Cat\n",
    "\n",
    "class Cat(Animal):\n",
    "    def speak(self):\n",
    "        return \"Meow!\"\n",
    "\n",
    "## Function that demonstrates polymorphism\n",
    "\n",
    "def animal_speak(animal):\n",
    "    return animal.speak()\n",
    "\n",
    "dog = Dog()\n",
    "cat = Cat()\n",
    "print(dog.speak())  ## Woof!\n",
    "print(cat.speak())  ## Meow!\n",
    "print(animal_speak(dog))  ## Woof!"
   ]
  },
  {
   "cell_type": "code",
   "execution_count": 11,
   "id": "ddbe8a6d",
   "metadata": {},
   "outputs": [
    {
     "name": "stdout",
     "output_type": "stream",
     "text": [
      "The area is: 50\n",
      "The area is: 153.86\n"
     ]
    }
   ],
   "source": [
    "## Polymorphism with functions and methods\n",
    "\n",
    "## base class\n",
    "\n",
    "class Shape:\n",
    "    def area(self):\n",
    "        return 'The area of the shape'\n",
    "\n",
    "## derived class 1\n",
    "\n",
    "class Rectangle(Shape):\n",
    "    def __init__(self, width, height):\n",
    "        self.width = width\n",
    "        self.height = height\n",
    "\n",
    "    def area(self):\n",
    "        return self.width * self.height\n",
    "\n",
    "## derived class 2\n",
    "\n",
    "class Circle(Shape):\n",
    "    def __init__(self, radius):\n",
    "        self.radius = radius\n",
    "\n",
    "    def area(self):\n",
    "        return 3.14 * self.radius * self.radius\n",
    "\n",
    "def print_area(shape):\n",
    "    print(f\"The area is: {shape.area()}\")\n",
    "\n",
    "\n",
    "rectangle = Rectangle(5, 10)\n",
    "circle = Circle(7)\n",
    "\n",
    "print_area(rectangle)  ## The area is: 50\n",
    "print_area(circle)     ## The area is: 153.86"
   ]
  },
  {
   "cell_type": "markdown",
   "id": "edaf2cc2",
   "metadata": {},
   "source": [
    "## So, the insight is that rectangle and circle can be used as nstances of the same superclass"
   ]
  },
  {
   "cell_type": "code",
   "execution_count": null,
   "id": "3a87ed28",
   "metadata": {},
   "outputs": [],
   "source": [
    "## Polymorphism with abstract base classes\n",
    "## Abstract base classes are used to define common methods for a group of related objects\n"
   ]
  },
  {
   "cell_type": "code",
   "execution_count": 12,
   "id": "a933d51d",
   "metadata": {},
   "outputs": [
    {
     "name": "stdout",
     "output_type": "stream",
     "text": [
      "Car engine started\n",
      "Motorcycle engine started\n"
     ]
    }
   ],
   "source": [
    "from abc import ABC, abstractmethod\n",
    "\n",
    "## Define abstract base class\n",
    "\n",
    "class Vehicle(ABC):\n",
    "    @abstractmethod\n",
    "    def start_engine(self):\n",
    "        pass\n",
    "\n",
    "## Derived class 1\n",
    "\n",
    "class Car(Vehicle):\n",
    "    def start_engine(self):\n",
    "        return \"Car engine started\"\n",
    "\n",
    "## Derived class 2\n",
    "\n",
    "class Motorcycle(Vehicle):\n",
    "    def start_engine(self):\n",
    "        return \"Motorcycle engine started\"\n",
    "\n",
    "\n",
    "# Function that demonstrates polymorphism with abstract base classes\n",
    "\n",
    "def start_vehicle(vehicle):\n",
    "    print(vehicle.start_engine())\n",
    "\n",
    "car = Car()\n",
    "motorcycle = Motorcycle()\n",
    "\n",
    "start_vehicle(car)          ## Car engine started\n",
    "start_vehicle(motorcycle)   ## Motorcycle engine started"
   ]
  }
 ],
 "metadata": {
  "kernelspec": {
   "display_name": "Python 3",
   "language": "python",
   "name": "python3"
  },
  "language_info": {
   "codemirror_mode": {
    "name": "ipython",
    "version": 3
   },
   "file_extension": ".py",
   "mimetype": "text/x-python",
   "name": "python",
   "nbconvert_exporter": "python",
   "pygments_lexer": "ipython3",
   "version": "3.12.0"
  }
 },
 "nbformat": 4,
 "nbformat_minor": 5
}
