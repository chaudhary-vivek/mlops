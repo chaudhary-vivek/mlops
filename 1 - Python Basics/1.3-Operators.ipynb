{
 "cells": [
  {
   "cell_type": "code",
   "execution_count": 7,
   "id": "08e77cff",
   "metadata": {},
   "outputs": [
    {
     "name": "stdout",
     "output_type": "stream",
     "text": [
      "3.3333333333333335\n",
      "3\n",
      "1\n"
     ]
    }
   ],
   "source": [
    "a = 10\n",
    "b = 3\n",
    "\n",
    "print(a/b)\n",
    "print(a//b) ## floor division\n",
    "print(a%b) ## modulus returns the remainder\n"
   ]
  },
  {
   "cell_type": "code",
   "execution_count": 9,
   "id": "e7e99f31",
   "metadata": {},
   "outputs": [
    {
     "name": "stdout",
     "output_type": "stream",
     "text": [
      "False\n",
      "True\n",
      "True\n"
     ]
    }
   ],
   "source": [
    "## Logical operators\n",
    "## and, or, not\n",
    "\n",
    "X = True\n",
    "Y = False\n",
    "\n",
    "result = X and Y\n",
    "print(result)\n",
    "\n",
    "result = X or Y\n",
    "print(result)\n",
    "\n",
    "result = not Y\n",
    "print(result)"
   ]
  }
 ],
 "metadata": {
  "kernelspec": {
   "display_name": "Python 3",
   "language": "python",
   "name": "python3"
  },
  "language_info": {
   "codemirror_mode": {
    "name": "ipython",
    "version": 3
   },
   "file_extension": ".py",
   "mimetype": "text/x-python",
   "name": "python",
   "nbconvert_exporter": "python",
   "pygments_lexer": "ipython3",
   "version": "3.12.0"
  }
 },
 "nbformat": 4,
 "nbformat_minor": 5
}
