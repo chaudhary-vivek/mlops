{
 "cells": [
  {
   "cell_type": "code",
   "execution_count": 13,
   "id": "68a5fce6",
   "metadata": {},
   "outputs": [
    {
     "name": "stdout",
     "output_type": "stream",
     "text": [
      "array('i', [1, 2, 3, 4, 5])\n"
     ]
    }
   ],
   "source": [
    "import array\n",
    "\n",
    "arr = array.array('i', [1, 2, 3, 4, 5])\n",
    "print(arr)"
   ]
  },
  {
   "cell_type": "code",
   "execution_count": 14,
   "id": "7d78e04d",
   "metadata": {},
   "outputs": [
    {
     "data": {
      "text/plain": [
       "4.0"
      ]
     },
     "execution_count": 14,
     "metadata": {},
     "output_type": "execute_result"
    }
   ],
   "source": [
    "import math\n",
    "\n",
    "math.sqrt(16)"
   ]
  },
  {
   "cell_type": "code",
   "execution_count": 15,
   "id": "10639d93",
   "metadata": {},
   "outputs": [
    {
     "name": "stdout",
     "output_type": "stream",
     "text": [
      "63\n",
      "apple\n"
     ]
    }
   ],
   "source": [
    "import random\n",
    "\n",
    "print(random.randint(1, 100))\n",
    "print(random.choice(['apple', 'banana', 'cherry']))"
   ]
  },
  {
   "cell_type": "code",
   "execution_count": 16,
   "id": "7a4c8432",
   "metadata": {},
   "outputs": [
    {
     "name": "stdout",
     "output_type": "stream",
     "text": [
      "/Users/vivekchaudhary/Documents/mlops/1 - Python Basics\n",
      "3.21-Importmodules.ipynb\n",
      "3.14-Tuples.ipynb\n",
      "1.3-Operators.ipynb\n",
      "3.20-Filterfunction.ipynb\n",
      "test.py\n",
      "3.16-Functions.ipynb\n",
      "3.22-Stadardlibrary.ipynb\n",
      "3.13-Sets.ipynb\n",
      "1.5-Loops.ipynb\n",
      "3.19-Mapfunction.ipynb\n",
      "3.18-Lamdafunctions.ipynb\n",
      "package\n",
      "3.15-Dictionaries.ipynb\n",
      "venv_setup.txt\n"
     ]
    }
   ],
   "source": [
    "## File and directory access\n",
    "\n",
    "import os\n",
    "\n",
    "print(os.getcwd())  # Get current working directory\n",
    "for item in os.listdir('.'):\n",
    "    print(item)  # List files and directories in current directory"
   ]
  },
  {
   "cell_type": "code",
   "execution_count": 17,
   "id": "016144f8",
   "metadata": {},
   "outputs": [
    {
     "data": {
      "text/plain": [
       "'test_copy.py'"
      ]
     },
     "execution_count": 17,
     "metadata": {},
     "output_type": "execute_result"
    }
   ],
   "source": [
    "## high level file operations\n",
    "\n",
    "import shutil\n",
    "\n",
    "shutil.copy('test.py', 'test_copy.py')  # Copy file"
   ]
  },
  {
   "cell_type": "code",
   "execution_count": 19,
   "id": "a0097d39",
   "metadata": {},
   "outputs": [
    {
     "name": "stdout",
     "output_type": "stream",
     "text": [
      "{\"name\": \"Alice\", \"age\": 30, \"city\": \"New York\"}\n",
      "<class 'str'>\n"
     ]
    },
    {
     "data": {
      "text/plain": [
       "dict"
      ]
     },
     "execution_count": 19,
     "metadata": {},
     "output_type": "execute_result"
    }
   ],
   "source": [
    "## data serialization\n",
    "\n",
    "import json\n",
    "data = {'name': 'Alice', 'age': 30, 'city': 'New York'}\n",
    "\n",
    "# to dump data to json string\n",
    "json_string = json.dumps(data)\n",
    "print(json_string)\n",
    "print(type(json_string))\n",
    "\n",
    "# to turn json string to python dict\n",
    "json_dict = json.loads(json_string)\n",
    "type(json_dict)"
   ]
  },
  {
   "cell_type": "code",
   "execution_count": 21,
   "id": "fe9c3229",
   "metadata": {},
   "outputs": [
    {
     "name": "stdout",
     "output_type": "stream",
     "text": [
      "Current date and time: 2025-09-04 16:50:39.392617\n",
      "Yesterday was: 2025-09-03 16:50:39.392617\n"
     ]
    }
   ],
   "source": [
    "## datetime\n",
    "\n",
    "from datetime import datetime, timedelta\n",
    "\n",
    "now = datetime.now()\n",
    "print(\"Current date and time:\", now)\n",
    "\n",
    "yesterday = now - timedelta(days=1)\n",
    "print(\"Yesterday was:\", yesterday)"
   ]
  },
  {
   "cell_type": "code",
   "execution_count": 23,
   "id": "1082549c",
   "metadata": {},
   "outputs": [
    {
     "name": "stdout",
     "output_type": "stream",
     "text": [
      "Current time: 1756984908.574602\n",
      "Time after 2 seconds: 1756984910.578311\n"
     ]
    }
   ],
   "source": [
    "## time\n",
    "\n",
    "import time\n",
    "\n",
    "print(\"Current time:\", time.time())\n",
    "time.sleep(2)\n",
    "print(\"Time after 2 seconds:\", time.time())"
   ]
  },
  {
   "cell_type": "code",
   "execution_count": null,
   "id": "158c08cd",
   "metadata": {},
   "outputs": [
    {
     "name": "stdout",
     "output_type": "stream",
     "text": [
      "3\n"
     ]
    }
   ],
   "source": [
    "## regular expressions\n",
    "\n",
    "import re\n",
    "\n",
    "pattern = r'\\d+'\n",
    "\n",
    "text = 'There are 3 apples and 5 bananas.'\n",
    "\n",
    "match = re.search(pattern, text)\n",
    "\n",
    "print(match.group())  # prints first time a dicgit occurs"
   ]
  }
 ],
 "metadata": {
  "kernelspec": {
   "display_name": "Python 3",
   "language": "python",
   "name": "python3"
  },
  "language_info": {
   "codemirror_mode": {
    "name": "ipython",
    "version": 3
   },
   "file_extension": ".py",
   "mimetype": "text/x-python",
   "name": "python",
   "nbconvert_exporter": "python",
   "pygments_lexer": "ipython3",
   "version": "3.12.0"
  }
 },
 "nbformat": 4,
 "nbformat_minor": 5
}
