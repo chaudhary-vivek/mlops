{
 "cells": [
  {
   "cell_type": "code",
   "execution_count": 4,
   "id": "295d6a61",
   "metadata": {},
   "outputs": [
    {
     "name": "stdout",
     "output_type": "stream",
     "text": [
      "<class 'function'>\n",
      "8\n"
     ]
    }
   ],
   "source": [
    "# lambda funciton is a function without a name\n",
    "\n",
    "addition =lambda a, b: a + b\n",
    "print(type(addition))\n",
    "print(addition(5, 3))"
   ]
  },
  {
   "cell_type": "code",
   "execution_count": 6,
   "id": "957d91b8",
   "metadata": {},
   "outputs": [
    {
     "name": "stdout",
     "output_type": "stream",
     "text": [
      "True\n",
      "False\n"
     ]
    }
   ],
   "source": [
    "check_even = lambda x : x % 2 == 0\n",
    "print(check_even(4))\n",
    "print(check_even(3))"
   ]
  },
  {
   "cell_type": "code",
   "execution_count": 7,
   "id": "db4a66c6",
   "metadata": {},
   "outputs": [
    {
     "data": {
      "text/plain": [
       "<map at 0x10455fa60>"
      ]
     },
     "execution_count": 7,
     "metadata": {},
     "output_type": "execute_result"
    }
   ],
   "source": [
    "## map function applies a function to all items in a list\n",
    "\n",
    "map(lambda x : x ** 2, [1,2,3,4,5])"
   ]
  },
  {
   "cell_type": "code",
   "execution_count": 8,
   "id": "71054bbd",
   "metadata": {},
   "outputs": [
    {
     "data": {
      "text/plain": [
       "[1, 4, 9, 16, 25]"
      ]
     },
     "execution_count": 8,
     "metadata": {},
     "output_type": "execute_result"
    }
   ],
   "source": [
    "list(map(lambda x : x ** 2, [1,2,3,4,5]))  # converting map object to list to see the results"
   ]
  }
 ],
 "metadata": {
  "kernelspec": {
   "display_name": "Python 3",
   "language": "python",
   "name": "python3"
  },
  "language_info": {
   "codemirror_mode": {
    "name": "ipython",
    "version": 3
   },
   "file_extension": ".py",
   "mimetype": "text/x-python",
   "name": "python",
   "nbconvert_exporter": "python",
   "pygments_lexer": "ipython3",
   "version": "3.12.0"
  }
 },
 "nbformat": 4,
 "nbformat_minor": 5
}
