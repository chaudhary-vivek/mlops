{
 "cells": [
  {
   "cell_type": "code",
   "execution_count": 22,
   "id": "aff036f1",
   "metadata": {},
   "outputs": [
    {
     "name": "stdout",
     "output_type": "stream",
     "text": [
      "<class 'tuple'>\n",
      "<class 'tuple'>\n",
      "<class 'list'>\n"
     ]
    }
   ],
   "source": [
    "empty_tuple = ()\n",
    "print(type(empty_tuple))\n",
    "\n",
    "numbers = tuple([1, 2, 3, 4, 5])\n",
    "print(type(numbers))\n",
    "numbers = list((1, 2, 3, 4, 5))\n",
    "print(type(numbers))"
   ]
  },
  {
   "cell_type": "markdown",
   "id": "18c0944c",
   "metadata": {},
   "source": []
  },
  {
   "cell_type": "code",
   "execution_count": 23,
   "id": "f67cdfdf",
   "metadata": {},
   "outputs": [
    {
     "name": "stdout",
     "output_type": "stream",
     "text": [
      "3\n",
      "5\n",
      "(2, 3, 4)\n"
     ]
    }
   ],
   "source": [
    "## Accessing Tuple Elements\n",
    "## indexing and slicing is same a slist\n",
    "\n",
    "numbers = (1, 2, 3, 4, 5)\n",
    "print(numbers[2])\n",
    "print(numbers[-1])\n",
    "print(numbers[1:4])"
   ]
  },
  {
   "cell_type": "code",
   "execution_count": 24,
   "id": "312789c5",
   "metadata": {},
   "outputs": [
    {
     "name": "stdout",
     "output_type": "stream",
     "text": [
      "(1, 2, 3, 4, 5, 'Hello', 'World', 6, 7)\n"
     ]
    }
   ],
   "source": [
    "## Tuple Operations\n",
    "\n",
    "numbers = (1, 2, 3, 4, 5)\n",
    "mixed_tuple = (\"Hello\", \"World\", 6,7)\n",
    "\n",
    "concatenatad_tuple = numbers + mixed_tuple\n",
    "print(concatenatad_tuple)"
   ]
  },
  {
   "cell_type": "code",
   "execution_count": 25,
   "id": "affd53ee",
   "metadata": {},
   "outputs": [
    {
     "name": "stdout",
     "output_type": "stream",
     "text": [
      "('Hello', 'World', 6, 7, 'Hello', 'World', 6, 7, 'Hello', 'World', 6, 7)\n"
     ]
    }
   ],
   "source": [
    "print(mixed_tuple * 3)"
   ]
  },
  {
   "cell_type": "code",
   "execution_count": 26,
   "id": "90e237d0",
   "metadata": {},
   "outputs": [
    {
     "name": "stdout",
     "output_type": "stream",
     "text": [
      "[1, 2, 3, 4, 5]\n",
      "[10, 2, 3, 4, 5]\n"
     ]
    },
    {
     "ename": "TypeError",
     "evalue": "'tuple' object does not support item assignment",
     "output_type": "error",
     "traceback": [
      "\u001b[31m---------------------------------------------------------------------------\u001b[39m",
      "\u001b[31mTypeError\u001b[39m                                 Traceback (most recent call last)",
      "\u001b[36mCell\u001b[39m\u001b[36m \u001b[39m\u001b[32mIn[26]\u001b[39m\u001b[32m, line 13\u001b[39m\n\u001b[32m     11\u001b[39m \u001b[38;5;66;03m## Tuple is immutable\u001b[39;00m\n\u001b[32m     12\u001b[39m tpl = (\u001b[32m1\u001b[39m,\u001b[32m2\u001b[39m,\u001b[32m3\u001b[39m,\u001b[32m4\u001b[39m,\u001b[32m5\u001b[39m)\n\u001b[32m---> \u001b[39m\u001b[32m13\u001b[39m \u001b[43mtpl\u001b[49m\u001b[43m[\u001b[49m\u001b[32;43m0\u001b[39;49m\u001b[43m]\u001b[49m = \u001b[32m10\u001b[39m\n\u001b[32m     14\u001b[39m \u001b[38;5;28mprint\u001b[39m(tpl)\n",
      "\u001b[31mTypeError\u001b[39m: 'tuple' object does not support item assignment"
     ]
    }
   ],
   "source": [
    "## Immutability of Tuples\n",
    "\n",
    "## List is mutable\n",
    "lst = [1,2,3,4,5]\n",
    "print(lst)\n",
    "\n",
    "lst[0] = 10\n",
    "print(lst)\n",
    "\n",
    "\n",
    "## Tuple is immutable\n",
    "tpl = (1,2,3,4,5)\n",
    "tpl[0] = 10\n",
    "print(tpl)"
   ]
  },
  {
   "cell_type": "code",
   "execution_count": null,
   "id": "d281114a",
   "metadata": {},
   "outputs": [
    {
     "name": "stdout",
     "output_type": "stream",
     "text": [
      "0\n",
      "2\n"
     ]
    }
   ],
   "source": [
    "numbers = (1, 2, 3, 4, 5)\n",
    "print(numbers.count(9))\n",
    "print(numbers.index(3))\n"
   ]
  },
  {
   "cell_type": "code",
   "execution_count": null,
   "id": "3f06db17",
   "metadata": {},
   "outputs": [
    {
     "name": "stdout",
     "output_type": "stream",
     "text": [
      "<class 'tuple'>\n",
      "<class 'int'>\n"
     ]
    }
   ],
   "source": [
    "packed_tuple = 1, 2, 3\n",
    "print(type(packed_tuple))\n",
    "\n",
    "a, b, c = packed_tuple\n",
    "print(type(a))"
   ]
  },
  {
   "cell_type": "markdown",
   "id": "d0e9dc3f",
   "metadata": {},
   "source": [
    "# Unpacking with *"
   ]
  },
  {
   "cell_type": "code",
   "execution_count": null,
   "id": "43440b4d",
   "metadata": {},
   "outputs": [
    {
     "name": "stdout",
     "output_type": "stream",
     "text": [
      "1\n",
      "[2, 3, 4, 5]\n",
      "6\n"
     ]
    }
   ],
   "source": [
    "numbers = (1, 2, 3, 4, 5, 6)\n",
    "\n",
    "first, *middle, last = numbers\n",
    "print(first)\n",
    "print(middle)\n",
    "print(last)"
   ]
  }
 ],
 "metadata": {
  "kernelspec": {
   "display_name": "Python 3",
   "language": "python",
   "name": "python3"
  },
  "language_info": {
   "codemirror_mode": {
    "name": "ipython",
    "version": 3
   },
   "file_extension": ".py",
   "mimetype": "text/x-python",
   "name": "python",
   "nbconvert_exporter": "python",
   "pygments_lexer": "ipython3",
   "version": "3.12.0"
  }
 },
 "nbformat": 4,
 "nbformat_minor": 5
}
