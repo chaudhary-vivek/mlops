{
 "cells": [
  {
   "cell_type": "code",
   "execution_count": 1,
   "id": "91b3acf8",
   "metadata": {},
   "outputs": [],
   "source": [
    "# map function applies a function to all items in a list and returns a map object"
   ]
  },
  {
   "cell_type": "code",
   "execution_count": 2,
   "id": "9943b35e",
   "metadata": {},
   "outputs": [
    {
     "name": "stdout",
     "output_type": "stream",
     "text": [
      "<map object at 0x10b960c40>\n",
      "[1, 4, 9, 16, 25, 36, 49, 64, 81, 100]\n"
     ]
    }
   ],
   "source": [
    "def square(x):\n",
    "    return x * x\n",
    "\n",
    "numbers = [1, 2, 3, 4, 5, 6, 7, 8, 9, 10]\n",
    "\n",
    "out = map(square, numbers)  # returns a map object\n",
    "print(out)\n",
    "\n",
    "out = map(square, numbers)  # returns a map object\n",
    "print(list(out))  # convert map object to list and print"
   ]
  },
  {
   "cell_type": "code",
   "execution_count": 3,
   "id": "20b0281f",
   "metadata": {},
   "outputs": [
    {
     "name": "stdout",
     "output_type": "stream",
     "text": [
      "[1, 4, 9, 16, 25, 36, 49, 64, 81, 100]\n"
     ]
    }
   ],
   "source": [
    "lambda_square = lambda x: x * x\n",
    "out = map(lambda_square, numbers)\n",
    "print(list(out))    \n"
   ]
  },
  {
   "cell_type": "code",
   "execution_count": 4,
   "id": "8e55f302",
   "metadata": {},
   "outputs": [
    {
     "data": {
      "text/plain": [
       "[1, 2, 3, 4, 5, 6, 7, 8, 9, 10]"
      ]
     },
     "execution_count": 4,
     "metadata": {},
     "output_type": "execute_result"
    }
   ],
   "source": [
    "str_numbers = [ '1', '2', '3', '4', '5', '6', '7', '8', '9', '10' ]\n",
    "out = list(map(lambda x : int(x), str_numbers))\n",
    "out"
   ]
  },
  {
   "cell_type": "code",
   "execution_count": 5,
   "id": "4b2b0a56",
   "metadata": {},
   "outputs": [
    {
     "data": {
      "text/plain": [
       "['APPLE', 'BANANA', 'CHERRY']"
      ]
     },
     "execution_count": 5,
     "metadata": {},
     "output_type": "execute_result"
    }
   ],
   "source": [
    "words = ['apple', 'banana', 'cherry']\n",
    "out = list(map(str.upper, words))\n",
    "out"
   ]
  }
 ],
 "metadata": {
  "kernelspec": {
   "display_name": "Python 3",
   "language": "python",
   "name": "python3"
  },
  "language_info": {
   "codemirror_mode": {
    "name": "ipython",
    "version": 3
   },
   "file_extension": ".py",
   "mimetype": "text/x-python",
   "name": "python",
   "nbconvert_exporter": "python",
   "pygments_lexer": "ipython3",
   "version": "3.12.0"
  }
 },
 "nbformat": 4,
 "nbformat_minor": 5
}
